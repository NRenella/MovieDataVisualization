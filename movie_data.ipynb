{
 "cells": [
  {
   "cell_type": "code",
   "execution_count": 5,
   "metadata": {},
   "outputs": [
    {
     "name": "stdout",
     "output_type": "stream",
     "text": [
      "hello\n"
     ]
    }
   ],
   "source": [
    "#!pip install pandas\n",
    "#!pip install zipfile\n",
    "#!pip install kaggle\n",
    "\n",
    "# pandas library \n",
    "import pandas as pd\n",
    "\n",
    "# import zipfile library for extracting data from kaggle\n",
    "import zipfile\n",
    "\n",
    "# import kaggle library for extracting data from kaggle\n",
    "import kaggle\n"
   ]
  },
  {
   "cell_type": "code",
   "execution_count": 6,
   "metadata": {},
   "outputs": [
    {
     "name": "stdout",
     "output_type": "stream",
     "text": [
      "Dataset URL: https://www.kaggle.com/datasets/darrylljk/marvel-cinematic-universe-films-box-office\n",
      "License(s): CC-BY-NC-SA-4.0\n",
      "Downloading marvel-cinematic-universe-films-box-office.zip to c:\\Users\\holyl\\Desktop\\MovieDataVisualization\n",
      "\n"
     ]
    },
    {
     "name": "stderr",
     "output_type": "stream",
     "text": [
      "\n",
      "  0%|          | 0.00/1.01k [00:00<?, ?B/s]\n",
      "100%|██████████| 1.01k/1.01k [00:00<00:00, 347kB/s]\n"
     ]
    }
   ],
   "source": [
    "# downloading mcu dataset from Kaggle\n",
    "!kaggle datasets download -d darrylljk/marvel-cinematic-universe-films-box-office"
   ]
  },
  {
   "cell_type": "code",
   "execution_count": 7,
   "metadata": {},
   "outputs": [
    {
     "name": "stdout",
     "output_type": "stream",
     "text": [
      "Dataset URL: https://www.kaggle.com/datasets/danielgrijalvas/movies\n",
      "License(s): CC0-1.0\n",
      "Downloading movies.zip to c:\\Users\\holyl\\Desktop\\MovieDataVisualization\n",
      "\n"
     ]
    },
    {
     "name": "stderr",
     "output_type": "stream",
     "text": [
      "\n",
      "  0%|          | 0.00/424k [00:00<?, ?B/s]\n",
      "100%|██████████| 424k/424k [00:00<00:00, 11.8MB/s]\n"
     ]
    }
   ],
   "source": [
    "# downloading movie dataset from Kaggle\n",
    "!kaggle datasets download -d danielgrijalvas/movies"
   ]
  },
  {
   "cell_type": "code",
   "execution_count": 8,
   "metadata": {},
   "outputs": [],
   "source": [
    "# extract the csv from downloaded zipfile\n",
    "\n",
    "movies_zipfile = 'movies.zip'\n",
    "with zipfile.ZipFile(movies_zipfile,'r') as file:\n",
    "    file.extractall()"
   ]
  }
 ],
 "metadata": {
  "kernelspec": {
   "display_name": "Python 3",
   "language": "python",
   "name": "python3"
  },
  "language_info": {
   "codemirror_mode": {
    "name": "ipython",
    "version": 3
   },
   "file_extension": ".py",
   "mimetype": "text/x-python",
   "name": "python",
   "nbconvert_exporter": "python",
   "pygments_lexer": "ipython3",
   "version": "3.12.3"
  }
 },
 "nbformat": 4,
 "nbformat_minor": 2
}
